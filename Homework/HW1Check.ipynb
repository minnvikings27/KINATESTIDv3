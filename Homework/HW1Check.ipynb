{
  "cells": [
    {
      "cell_type": "markdown",
      "metadata": {
        "id": "view-in-github",
        "colab_type": "text"
      },
      "source": [
        "<a href=\"https://colab.research.google.com/github/minnvikings27/KINATESTIDv3/blob/main/Homework/HW1Check.ipynb\" target=\"_parent\"><img src=\"https://colab.research.google.com/assets/colab-badge.svg\" alt=\"Open In Colab\"/></a>"
      ]
    },
    {
      "cell_type": "markdown",
      "metadata": {
        "id": "K-PfCejKRRDh"
      },
      "source": [
        "Paste your code for all three functions in the code block below."
      ]
    },
    {
      "cell_type": "code",
      "metadata": {
        "id": "_IMh5SXCRRDj"
      },
      "source": [
        "import numpy as np\n",
        "\n",
        "def babylonian_sqrt(S, eps=1e-6):\n",
        "    diff = eps + 1\n",
        "    x = []\n",
        "    x.append(S)\n",
        "\n",
        "    n = 0\n",
        "    while (diff > eps):\n",
        "        n += 1\n",
        "        x.append(0.5*(x[n-1] + (S/x[n-1])))\n",
        "        diff = abs(x[n]**2 - S)\n",
        "    return x[n]\n",
        "\n",
        "def cross_product(x,y):\n",
        "    z1 = x[1]*y[2] - x[2]*y[1]\n",
        "    z2 = x[2]*y[0] - x[0]*y[2]\n",
        "    z3 = x[0]*y[1] - x[1]*y[0]\n",
        "    z = [z1, z2, z3]\n",
        "    return z\n",
        "\n",
        "def approx_pi(N):\n",
        "    indexValueArray = np.arange(1,N+1)\n",
        "    #print(indexValueArray)\n",
        "    indexValueArray = (1/np.power(indexValueArray,2))\n",
        "    #print(indexValueArray)\n",
        "    S_N = np.sum(indexValueArray)\n",
        "    #print(S_N)\n",
        "    pi = np.sqrt(6*S_N)\n",
        "    return pi\n",
        "\n"
      ],
      "outputs": [],
      "execution_count": 2
    },
    {
      "cell_type": "markdown",
      "metadata": {
        "id": "gsxXUth-RRDj"
      },
      "source": [
        "Then run the block below to test. Do not modify anything in the code below. Modify your functions to make it work. \"Work\" means the error is reasonably close to zero and the cross product is correct. I will test you submissions with this code, except the numbers will change."
      ]
    },
    {
      "cell_type": "code",
      "metadata": {
        "id": "7_ZQgop5RRDj",
        "outputId": "6a51b142-5cb9-4381-c72a-379f0bc8364e",
        "colab": {
          "base_uri": "https://localhost:8080/"
        }
      },
      "source": [
        "import numpy as np\n",
        "\n",
        "print('Babylonian Square Root:',end=' ')\n",
        "try:\n",
        "    a = babylonian_sqrt(16)\n",
        "    print('babylonian_sqrt(16)=%f'%a+', Error=%f'%(abs(4-a))+'\\n')\n",
        "except:\n",
        "    print('babylonian_sqrt not found.\\n\\n')\n",
        "\n",
        "print('\\nCross Product:',end=' ')\n",
        "try:\n",
        "    b = cross_product([1,0,2],[2,1,0])\n",
        "    print('cross_product([1,0,2],[2,1,0])=[%f,%f,%f]\\n'%(b[0],b[1],b[2]))\n",
        "    print('               True value: [1,0,2]x[2,1,0]=[-2,4,1]\\n')\n",
        "except:\n",
        "    print('cross_product not found.\\n\\n')\n",
        "\n",
        "print('\\nApproximate pi:',end=' ')\n",
        "try:\n",
        "    pi = approx_pi(1000)\n",
        "    print('approx_pi(1000)=%f, Error=%f\\n'%(pi,abs(pi-np.pi)))\n",
        "except:\n",
        "    print('approx_pi not found.\\n\\n')\n"
      ],
      "outputs": [
        {
          "output_type": "stream",
          "name": "stdout",
          "text": [
            "Babylonian Square Root: babylonian_sqrt(16)=4.000000, Error=0.000000\n",
            "\n",
            "\n",
            "Cross Product: cross_product([1,0,2],[2,1,0])=[-2.000000,4.000000,1.000000]\n",
            "\n",
            "               True value: [1,0,2]x[2,1,0]=[-2,4,1]\n",
            "\n",
            "\n",
            "Approximate pi: approx_pi(1000)=3.140638, Error=0.000955\n",
            "\n"
          ]
        }
      ],
      "execution_count": 3
    }
  ],
  "metadata": {
    "anaconda-cloud": {},
    "kernelspec": {
      "display_name": "Python 3",
      "language": "python",
      "name": "python3"
    },
    "language_info": {
      "codemirror_mode": {
        "name": "ipython",
        "version": 3
      },
      "file_extension": ".py",
      "mimetype": "text/x-python",
      "name": "python",
      "nbconvert_exporter": "python",
      "pygments_lexer": "ipython3",
      "version": "3.6.1"
    },
    "colab": {
      "provenance": [],
      "include_colab_link": true
    }
  },
  "nbformat": 4,
  "nbformat_minor": 0
}